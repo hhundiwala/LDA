{
 "cells": [
  {
   "cell_type": "code",
   "execution_count": 59,
   "metadata": {
    "collapsed": true
   },
   "outputs": [],
   "source": [
    "%matplotlib inline\n",
    "import matplotlib.pyplot as plt\n",
    "import numpy as np\n",
    "import seaborn as sns\n",
    "import scipy as sp\n",
    "import pandas as pd\n",
    "from sklearn import datasets\n",
    "from numpy import linalg as LA\n",
    "from sklearn.metrics.pairwise import pairwise_distances\n",
    "import sys\n",
    "from sklearn import linear_model"
   ]
  },
  {
   "cell_type": "code",
   "execution_count": 60,
   "metadata": {},
   "outputs": [],
   "source": [
    "iris = datasets.load_iris()\n",
    "X = iris.data\n",
    "y = iris.target\n",
    "input = np.column_stack((X,y))"
   ]
  },
  {
   "cell_type": "code",
   "execution_count": 64,
   "metadata": {},
   "outputs": [],
   "source": [
    "#input to these fountion contains Data Along with last column as class to which it belongs\n",
    "def my_LDA(input):\n",
    "    \n",
    "    #Extracting Information from the data\n",
    "    x = input[:,:-1]\n",
    "    no_of_class = len(np.unique(input[:,input.shape[1]-1]))\n",
    "    \n",
    "    #first thing we need to calculate here is mean vector\n",
    "    mean = []\n",
    "    #mu1, mu2, mu3.....,muk\n",
    "    for k in range(0, no_of_class):\n",
    "        #Calculating mean of all such tuples where class = k, for all the classes\n",
    "        mu_for_class = np.sum(input[input[:,(input.shape[1]-1)] == k], axis = 0)/len(input[input[:,(input.shape[1]-1)] == k])\n",
    "        #till here mean column consists of class label as well(as last column)\n",
    "        #deleting class label and appending it\n",
    "        mean.append(np.delete(mu_for_class,input.shape[1]-1,0)) \n",
    "    print(mean)\n",
    "    \n",
    "    #mean of entire subset\n",
    "    mean_entire = np.sum(x, axis=0)/len(x)\n",
    "    \n",
    "    #Calculating S_within in feature space\n",
    "    # s_for_class = Sum((x-mu1)(x-mu1)T)\n",
    "    # S_within = summation of all s_for_class\n",
    "    S_within = np.zeros((x.shape[1],x.shape[1]))\n",
    "    for k in range(0, no_of_class):\n",
    "        x_for_class = input[input[:,(input.shape[1]-1)] == k][:,:-1]\n",
    "        s_for_class = np.zeros((x.shape[1],x.shape[1]))\n",
    "        for m in range (0,x_for_class.shape[0]):\n",
    "            x_minus_mean = (x_for_class[m] - mean[k]).reshape(x.shape[1],1)    #this is column matrix\n",
    "            x_minus_mean_transpose = x_minus_mean.T #this is column matrix\n",
    "            s_for_class = s_for_class + np.matmul(x_minus_mean,x_minus_mean_transpose) \n",
    "        S_within = S_within + s_for_class\n",
    "    print(S_within)\n",
    "        \n",
    "    #Calculating S_between\n",
    "    S_between = np.zeros((x.shape[1],x.shape[1]))\n",
    "    for k in range(0, no_of_class):\n",
    "        mean_diff = (mean[k] - mean_entire).reshape(mean_entire.shape[0],1)\n",
    "        mean_diff_transpose = mean_diff.T;\n",
    "        S_between = S_between + np.matmul(mean_diff,mean_diff_transpose)\n",
    "    print(S_between)\n",
    "    \n",
    "    \n",
    "    #Now lets calculate the optimal W, known as W_star = S_within_inverse*S_between\n",
    "    W_star = np.matmul(np.linalg.inv(S_within),S_between)\n",
    "    print(W_star)\n",
    "    \n",
    "    #Calculating eigen_values and eigen_vectors\n",
    "    value,vector = np.linalg.eig(np.array(W_star))\n",
    "    \n",
    "    #Sorting eigen_values and eigen_vectors\n",
    "    index = value.argsort()[::-1]\n",
    "    eigen_value = value[index]\n",
    "    prin_component = vector[:,index]\n",
    "\n",
    "    #We plot take first (k-1) components\n",
    "    lda_output = np.dot(x,prin_component[:,0:no_of_class-1])\n",
    "    \n",
    "    return S_within,S_between, W_star,lda_output"
   ]
  },
  {
   "cell_type": "code",
   "execution_count": 65,
   "metadata": {},
   "outputs": [
    {
     "name": "stdout",
     "output_type": "stream",
     "text": [
      "[array([ 5.006,  3.418,  1.464,  0.244]), array([ 5.936,  2.77 ,  4.26 ,  1.326]), array([ 6.588,  2.974,  5.552,  2.026])]\n",
      "[[ 38.9562  13.683   24.614    5.6556]\n",
      " [ 13.683   17.035    8.12     4.9132]\n",
      " [ 24.614    8.12    27.22     6.2536]\n",
      " [  5.6556   4.9132   6.2536   6.1756]]\n",
      "[[ 1.26424267 -0.39068     3.30329333  1.42726133]\n",
      " [-0.39068     0.219552   -1.121104   -0.449848  ]\n",
      " [ 3.30329333 -1.121104    8.73287467  3.73816267]\n",
      " [ 1.42726133 -0.449848    3.73816267  1.61208267]]\n",
      "[[-0.06049419  0.02097089 -0.16037413 -0.06849721]\n",
      " [-0.1124181   0.04304984 -0.3021683  -0.12765321]\n",
      " [ 0.16057915 -0.05730874  0.42737317  0.18196891]\n",
      " [ 0.21334399 -0.06826502  0.5598107   0.24106167]]\n"
     ]
    }
   ],
   "source": [
    "S_within,S_between, W_star, lda_output = my_LDA(input)"
   ]
  },
  {
   "cell_type": "code",
   "execution_count": 67,
   "metadata": {},
   "outputs": [
    {
     "data": {
      "text/plain": [
       "<matplotlib.collections.PathCollection at 0x1a208b9748>"
      ]
     },
     "execution_count": 67,
     "metadata": {},
     "output_type": "execute_result"
    },
    {
     "data": {
      "image/png": "[encoded data removed]",
      "text/plain": [
       "<matplotlib.figure.Figure at 0x1a2094b710>"
      ]
     },
     "metadata": {},
     "output_type": "display_data"
    }
   ],
   "source": [
    "#Now lets plot the new reduced dimension data\n",
    "fig = plt.figure()\n",
    "fig.suptitle('Scatter Plot for clusters')\n",
    "ax = fig.add_subplot(1,1,1)\n",
    "ax.set_xlabel('X')\n",
    "ax.set_ylabel('Y')\n",
    "ax.scatter(lda_output[0:50,0],lda_output[0:50,1], c= 'y')\n",
    "ax.scatter(lda_output[50:100,0],lda_output[50:100,1], c= 'r')\n",
    "ax.scatter(lda_output[101:150,0],lda_output[101:150,1], c = 'b')"
   ]
  },
  {
   "cell_type": "code",
   "execution_count": null,
   "metadata": {
    "collapsed": true
   },
   "outputs": [],
   "source": []
  }
 ],
 "metadata": {
  "kernelspec": {
   "display_name": "Python 3",
   "language": "python",
   "name": "python3"
  },
  "language_info": {
   "codemirror_mode": {
    "name": "ipython",
    "version": 3
   },
   "file_extension": ".py",
   "mimetype": "text/x-python",
   "name": "python",
   "nbconvert_exporter": "python",
   "pygments_lexer": "ipython3",
   "version": "3.6.1"
  }
 },
 "nbformat": 4,
 "nbformat_minor": 2
}
